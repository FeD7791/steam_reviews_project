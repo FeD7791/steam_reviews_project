{
 "cells": [
  {
   "cell_type": "code",
   "execution_count": 3,
   "metadata": {},
   "outputs": [],
   "source": [
    "import requests\n",
    "from bs4 import BeautifulSoup"
   ]
  },
  {
   "cell_type": "markdown",
   "metadata": {},
   "source": [
    "# Utilizacion de Selenium\n",
    "\n",
    "Para utilizar Selenium vamos a necesitar un webdriver\n",
    "\n",
    "- El webdriver phantomjs que sugiere el libro ya esta deprecado y no se usa ni se da mantenimiento\n",
    "- Se aconseja descargar el chromedriver que puede encontrarse en el siguiente <a href='https://googlechromelabs.github.io/chrome-for-testing/'>link</a>\n",
    "\n",
    "El <a href='https://www.youtube.com/watch?v=Xz514u4V_ts'>siguiente</a> es un video de selenium + bs4 . Aclaro que en algunas cosas de selenium esta un poco outdated pero la explicacion es buena y la implementacion con bs4 es buenisima."
   ]
  },
  {
   "cell_type": "code",
   "execution_count": 1,
   "metadata": {},
   "outputs": [],
   "source": [
    "# Configuracion Basica\n",
    "from selenium import webdriver\n",
    "from selenium.webdriver.chrome.service import Service\n",
    "import time\n",
    "\n",
    "\n",
    "\n"
   ]
  },
  {
   "cell_type": "markdown",
   "metadata": {},
   "source": [
    "# Combinacion Selenium + Beautiful Soup\n",
    "\n",
    "## Uso basico de selenium\n",
    "\n",
    "Aqui solamente voy a detallar el uso de selenium con chrome.\n",
    "Basicamente, selenium tiene 3 componentes principales pero solo hare incapie en el webdriver\n",
    "\n",
    "- webdriver: Esta es una API orientada a objetos, permite acceder al browser de forma nativa. Para poder utilizarlo vamos a tener que instalar el chrome webdriver tal y como se dijo. La instalacion es simplemente descargar un ejecutable desde la web. Despues utilizando selenium podremos llamar a este ejecutable.\n",
    "    - Para poder utilizarlo en nuestro codigo vamos a tener que importar Service que esta dentro de: selenium.webdriver.chrome.service (*is mainly associated with browser-based features and functions.*)\n",
    "    - A este service le vamos a tener que sociar un path"
   ]
  },
  {
   "cell_type": "markdown",
   "metadata": {},
   "source": [
    "## Uso de selenium\n",
    "\n",
    "1. Seteo del webdriver\n",
    "    - from selenium import webdriver\n",
    "    - <a href='https://www.selenium.dev/documentation/webdriver/drivers/service/'>service</a> : Ayudan a especificar informacion acerca del driver\n",
    "    - Puedes especificar el puerto ej: service = webdriver.ChromeService(port=1234)\n",
    "\n",
    "2. Hacer la request get pertinente al sitio\n",
    "    - driver.page_source : nos da la informacion de la pag web y la podemos guardar en un objeto que puede utilizar beautiful soup\n",
    "\n"
   ]
  },
  {
   "cell_type": "code",
   "execution_count": null,
   "metadata": {},
   "outputs": [],
   "source": [
    "path_chrome = './chromedriver-win64/chromedriver.exe'\n",
    "service = webdriver.ChromeService(executable_path=path_chrome)\n",
    "driver = webdriver.Chrome(service=service)\n",
    "\n",
    "driver.get('https://quotes.toscrape.com/')\n",
    "page = driver.page_source\n",
    "soup = BeautifulSoup(page, \"html.parser\")\n",
    "\n",
    "author_element = soup.find('small',class_='author')\n",
    "print(author_element.text)\n",
    "driver.quit()\n",
    "\n",
    "#Existe otra manera de configurar el servicio\n",
    "\n",
    "# s = Service(path_chrome)\n",
    "# driver = webdriver.Chrome(service=s)"
   ]
  },
  {
   "cell_type": "markdown",
   "metadata": {},
   "source": [
    "### Headless browser\n",
    "Es posible correr el navegador de forma <a href='https://www.selenium.dev/blog/2023/headless-is-going-away/'> headless </a>\n",
    "\n",
    "Pasos:\n",
    "- from selenium.webdriver import ChromeOptions\n",
    "- options = ChromeOptions()\n",
    "- options.add_argument(\"--headless=new\")\n",
    "- Agregamos las opciones al webdriver de chrome"
   ]
  },
  {
   "cell_type": "code",
   "execution_count": 5,
   "metadata": {},
   "outputs": [
    {
     "name": "stdout",
     "output_type": "stream",
     "text": [
      "Albert Einstein\n"
     ]
    }
   ],
   "source": [
    "#Headless browser\n",
    "from selenium.webdriver import ChromeOptions\n",
    "options = ChromeOptions()\n",
    "options.add_argument(\"--headless=new\")\n",
    "\n",
    "path_chrome = './chromedriver-win64/chromedriver.exe'\n",
    "s = Service(path_chrome)\n",
    "driver = webdriver.Chrome(service=s, options=options)\n",
    "driver.get('https://quotes.toscrape.com/')\n",
    "page = driver.page_source\n",
    "\n",
    "##Soup\n",
    "soup = BeautifulSoup(page, \"html.parser\")\n",
    "author_element = soup.find('small',class_='author')\n",
    "print(author_element.text)\n",
    "driver.quit()"
   ]
  },
  {
   "cell_type": "markdown",
   "metadata": {},
   "source": [
    "# Encontrar tags especificos con Selenium\n",
    "\n",
    "Utilizamos la sintaxis:\n",
    "\n",
    "- driver.find_element(By.< tipo de tag>,< nombre del tag>).text #text lo transforma a texto\n",
    "    - Ej: driver.find_element(By.ID,\"numb1\").text"
   ]
  },
  {
   "cell_type": "code",
   "execution_count": null,
   "metadata": {},
   "outputs": [],
   "source": [
    "from selenium.webdriver.common.by import By  #VAS A NECESITAR IMPORTAR ESTTO\n",
    "driver.find_element(By.CLASS_NAME, 'NUMB')"
   ]
  },
  {
   "cell_type": "markdown",
   "metadata": {},
   "source": [
    "Revisar:\n",
    "\n",
    "from selenium.webdriver.support.ui import WebDriverWait\n",
    "from selenium.webdriver.support import expected_conditions as EC\n",
    "\n",
    "\n",
    "id = 553850\n",
    "URL = f'https://store.steampowered.com/app/{id}'\n",
    "path_chrome = './chromedriver-win64/chromedriver.exe'\n",
    "options = ChromeOptions()\n",
    "options.add_argument(\"--headless=new\")\n",
    "service = webdriver.ChromeService(executable_path=path_chrome)\n",
    "driver = webdriver.Chrome(service=service, options=options)\n",
    "driver.get(URL)\n",
    "time.sleep(3)\n",
    "###\n",
    "wait = WebDriverWait(driver, 10)  # Wait for a maximum of 10 seconds\n",
    "element = wait.until(EC.visibility_of_element_located((By.CLASS_NAME, \"user_reviews_summary_row\")))\n",
    "###\n",
    "# element = driver.find_element(By.CLASS_NAME, 'user_reviews_summary_row')\n",
    "# page = driver.page_source"
   ]
  }
 ],
 "metadata": {
  "kernelspec": {
   "display_name": "theory_virtual_env",
   "language": "python",
   "name": "python3"
  },
  "language_info": {
   "codemirror_mode": {
    "name": "ipython",
    "version": 3
   },
   "file_extension": ".py",
   "mimetype": "text/x-python",
   "name": "python",
   "nbconvert_exporter": "python",
   "pygments_lexer": "ipython3",
   "version": "3.12.0"
  }
 },
 "nbformat": 4,
 "nbformat_minor": 2
}
